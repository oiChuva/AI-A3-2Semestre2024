{
  "nbformat": 4,
  "nbformat_minor": 0,
  "metadata": {
    "colab": {
      "provenance": [],
      "authorship_tag": "ABX9TyM8CTV10DyZRoFIreB8kAjp",
      "include_colab_link": true
    },
    "kernelspec": {
      "name": "python3",
      "display_name": "Python 3"
    },
    "language_info": {
      "name": "python"
    }
  },
  "cells": [
    {
      "cell_type": "markdown",
      "metadata": {
        "id": "view-in-github",
        "colab_type": "text"
      },
      "source": [
        "<a href=\"https://colab.research.google.com/github/oiChuva/AI-A3-2Semetre2024/blob/main/codeforAIusjt2Sem.ipynb\" target=\"_parent\"><img src=\"https://colab.research.google.com/assets/colab-badge.svg\" alt=\"Open In Colab\"/></a>"
      ]
    },
    {
      "cell_type": "code",
      "source": [
        "!pip install uvicorn\n",
        "!pip install fastapi\n",
        "!pip install python-multipart"
      ],
      "metadata": {
        "id": "pDCDQRhiFYQr"
      },
      "execution_count": null,
      "outputs": []
    },
    {
      "cell_type": "code",
      "source": [
        "from fastapi import FastAPI, HTTPException, Request\n",
        "import cv2\n",
        "from google.colab.patches import cv2_imshow\n",
        "import uvicorn\n",
        "import os.path\n",
        "from os import path\n",
        "import numpy as np\n",
        "from fastapi.responses import JSONResponse\n",
        "from fastapi.responses import HTMLResponse"
      ],
      "metadata": {
        "id": "WHtkRuMoOZhb"
      },
      "execution_count": null,
      "outputs": []
    },
    {
      "cell_type": "code",
      "execution_count": null,
      "metadata": {
        "id": "jgzkOsb8cUjw"
      },
      "outputs": [],
      "source": [
        "app = FastAPI.FastAPI()\n",
        "\n",
        "if path.exists('/content/NoProcessing') == False:\n",
        "  os.mkdir('/content/NoProcessing')\n",
        "\n",
        "if path.exists('/content/Processed') == False:\n",
        "  os.mkdir('/content/Processed')"
      ]
    },
    {
      "cell_type": "markdown",
      "source": [
        "A ideia da api é ela ser um post, teremos uma função principal que utiliza\n",
        "a imagem recebida na IA, que, conforme a API receber o conjunto de dados da\n",
        "validação, imagem, tipo de item e pergunta(tem ou não tem?), jogará a\n",
        "imagem na IA e manda uma response para o usuário.\n",
        "\n",
        "# Este código é para codar em colaboração, o código rodará no VSC."
      ],
      "metadata": {
        "id": "QAqqgdmCRMtQ"
      }
    },
    {
      "cell_type": "code",
      "source": [
        "def image_treat():\n",
        "  for filename in sorted(os.listdir('/content/NoProcessing')):\n",
        "    if filename.endswith(\".png\"):  #Precisa ser PNG. (Para evitar problemas melhor setar só pra um)\n",
        "        image_path = os.path.join('/content/NoProcessing', filename)\n",
        "        imagem = cv2.imread(image_path)\n",
        "\n",
        "        if imagem is not None:\n",
        "            (height, width, depth) = imagem.shape\n",
        "\n",
        "            # - Escala de CINZA AQUI -------------------------------------------------------------\n",
        "            imagem = cv2.cvtColor(imagem, cv2.COLOR_BGR2GRAY)\n",
        "\n",
        "            # - Suavização da IMAGEM AQUI\n",
        "            imagemSuavizada = cv2.GaussianBlur(imagem, (3,3), 0)\n",
        "\n",
        "            # - CONTORNOS AQUI\n",
        "            imagemContornadaX = cv2.Sobel(imagemSuavizada, cv2.CV_64F, 1, 0)\n",
        "            imagemContornadaX = np.uint8(np.absolute(imagemContornadaX))\n",
        "            imagemContornadaY = cv2.Sobel(imagemSuavizada, cv2.CV_64F, 0, 1)\n",
        "            imagemContornadaY = np.uint8(np.absolute(imagemContornadaY))\n",
        "            imagemContornadaXY = cv2.bitwise_or(imagemContornadaX, imagemContornadaY)\n",
        "\n",
        "            # Só para ter certeza que esta funcionando - PARA VER SE FUNCIONA, DESCOMENTE A PRÓXIMA LINHA\n",
        "            # cv2_imshow(imagemContornadaXY)\n",
        "\n",
        "            output_path = os.path.join('/content/Processed', f\"Processed_{filename}\")\n",
        "            cv2.imwrite(output_path, imagemContornadaXY)\n",
        "    else:\n",
        "            print(f\"Error ao carregar {filename}\")"
      ],
      "metadata": {
        "id": "rH4UpCIiGY06"
      },
      "execution_count": null,
      "outputs": []
    },
    {
      "cell_type": "code",
      "source": [
        "#código da IA vai aqui\n",
        "def IA(imagem, tipo_p):\n",
        "  return"
      ],
      "metadata": {
        "id": "AzDRXkgQLfm0"
      },
      "execution_count": null,
      "outputs": []
    },
    {
      "cell_type": "code",
      "source": [
        "@app.post(\"/AI-Pensa\")\n",
        "async def webhook(request: Request):\n",
        "    \"\"\"Recebe dados via webhook e processa a inclusão.\"\"\"\n",
        "    try:\n",
        "        data = await request.json()\n",
        "        print(f\"Received data: {data}\")\n",
        "        imagem = data.get(\"foto\")\n",
        "        if imagem is None:\n",
        "            raise HTTPException(status_code=400, detail=\"Foto não fornecida.\")\n",
        "\n",
        "        tipo_p = data.get(\"tipo\")\n",
        "        if tipo_p is None:\n",
        "            raise HTTPException(status_code=400, detail=\"Tipo não fornecido.\")\n",
        "\n",
        "        # processa imagem\n",
        "        imagem_processada = image_treat(imagem)\n",
        "        if \"error\" in imagem_processada:\n",
        "            raise HTTPException(status_code=400, detail=imagem_processada[\"error\"])\n",
        "\n",
        "        #dá a imagem processada para a IA resolver se tem o item ou não\n",
        "        resultado = IA(imagem_processada, tipo_p)\n",
        "        if \"error\" in resultado:\n",
        "            raise HTTPException(status_code=400, detail=resultado[\"error\"])\n",
        "\n",
        "        return JSONResponse(content={resultado})\n",
        "        # tipo é o que a IA vai analisar da foto, pessoa, faca, cadeira, lixeira, por exemplo. _p de pergunta\n",
        "        # foto é o que vem da requisição, imagem é o que vai ser tratado e a IA vai analisar.\n",
        "\n",
        "    except Exception as e:\n",
        "        raise HTTPException(status_code=500, detail=str(e))\n",
        "\n",
        "@app.get(\"/test-page\", response_class=HTMLResponse)\n",
        "async def test_page():\n",
        "    html_content = \"\"\"\n",
        "    <!DOCTYPE html>\n",
        "    <html lang=\"en\">\n",
        "    <head>\n",
        "        <meta charset=\"UTF-8\">\n",
        "        <meta name=\"viewport\" content=\"width=device-width, initial-scale=1.0\">\n",
        "        <title>Server Test Page</title>\n",
        "        <style>\n",
        "            body { font-family: Arial, sans-serif; background-color: #f4f4f4; color: #333; text-align: center; padding: 50px; }\n",
        "            h1 { color: #4CAF50; }\n",
        "            p { font-size: 1.2em; }\n",
        "            .status { font-weight: bold; }\n",
        "        </style>\n",
        "    </head>\n",
        "    <body>\n",
        "        <h1>Server is Running!</h1>\n",
        "        <p>Welcome to the <span class=\"status\">FastAPI Server Test Page</span></p>\n",
        "        <p>Status: <span class=\"status\">OK</span></p>\n",
        "    </body>\n",
        "    </html>\n",
        "    \"\"\"\n",
        "    return HTMLResponse(content=html_content)\n"
      ],
      "metadata": {
        "id": "Etdr6E-JLfys"
      },
      "execution_count": null,
      "outputs": []
    }
  ]
}