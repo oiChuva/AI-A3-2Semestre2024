{
  "nbformat": 4,
  "nbformat_minor": 0,
  "metadata": {
    "colab": {
      "provenance": [],
      "authorship_tag": "ABX9TyNfn5s0sDbfaDplvksWF7T2",
      "include_colab_link": true
    },
    "kernelspec": {
      "name": "python3",
      "display_name": "Python 3"
    },
    "language_info": {
      "name": "python"
    }
  },
  "cells": [
    {
      "cell_type": "markdown",
      "metadata": {
        "id": "view-in-github",
        "colab_type": "text"
      },
      "source": [
        "<a href=\"https://colab.research.google.com/github/oiChuva/AI-A3-2Semetre2024/blob/main/codeforAIusjt2Sem.ipynb\" target=\"_parent\"><img src=\"https://colab.research.google.com/assets/colab-badge.svg\" alt=\"Open In Colab\"/></a>"
      ]
    },
    {
      "cell_type": "code",
      "source": [
        "!pip install uvicorn\n",
        "!pip install fastapi\n",
        "!pip install python-multipart"
      ],
      "metadata": {
        "id": "pDCDQRhiFYQr"
      },
      "execution_count": null,
      "outputs": []
    },
    {
      "cell_type": "code",
      "execution_count": 2,
      "metadata": {
        "id": "jgzkOsb8cUjw"
      },
      "outputs": [],
      "source": [
        "import fastapi as fa\n",
        "import cv2\n",
        "from google.colab.patches import cv2_imshow\n",
        "import uvicorn\n",
        "import os.path\n",
        "from os import path\n",
        "import numpy as np\n",
        "\n",
        "app = fa.FastAPI()\n",
        "\n",
        "if path.exists('/content/trainingImages') == False:\n",
        "  os.mkdir('/content/trainingImages')\n",
        "\n",
        "if path.exists('/content/processedImages') == False:\n",
        "  os.mkdir('/content/processedImages')\n",
        "\n",
        "# A ideia da api é ela ser um post, teremos uma função principal que utiliza\n",
        "# a imagem recebida na IA, que, conforme a API receber o conjunto de dados da\n",
        "# validação, imagem, tipo de item e pergunta(tem ou não tem?), jogará a\n",
        "# imagem na IA e manda uma response para o usuário.\n",
        "\n",
        "# Este código é para codar em colaboração, o código rodará no VSC."
      ]
    },
    {
      "cell_type": "code",
      "source": [
        "def image_treat():\n",
        "  for filename in sorted(os.listdir('/content/trainingImages')):\n",
        "\n",
        "    if filename.endswith(\".png\"):  #Precisa ser PNG. (Para evitar problemas melhor setar só pra um)\n",
        "        image_path = os.path.join('/content/trainingImages', filename)\n",
        "        imagem = cv2.imread(image_path)\n",
        "\n",
        "        if imagem is not None:\n",
        "            (height, width, depth) = imagem.shape\n",
        "\n",
        "            # - Escala de CINZA AQUI -------------------------------------------------------------\n",
        "            imagem = cv2.cvtColor(imagem, cv2.COLOR_BGR2GRAY)\n",
        "\n",
        "            # - Suavização da IMAGEM AQUI\n",
        "            imagemSuavizada = cv2.GaussianBlur(imagem, (3,3), 0)\n",
        "\n",
        "            # - CONTORNOS AQUI\n",
        "            imagemContornadaX = cv2.Sobel(imagemSuavizada, cv2.CV_64F, 1, 0)\n",
        "            imagemContornadaX = np.uint8(np.absolute(imagemContornadaX))\n",
        "            imagemContornadaY = cv2.Sobel(imagemSuavizada, cv2.CV_64F, 0, 1)\n",
        "            imagemContornadaY = np.uint8(np.absolute(imagemContornadaY))\n",
        "            imagemContornadaXY = cv2.bitwise_or(imagemContornadaX, imagemContornadaY)\n",
        "\n",
        "            # Só para ter certeza que esta funcionando - PARA VER SE FUNCIONA, DESCOMENTE A PRÓXIMA LINHA\n",
        "            # cv2_imshow(imagemContornadaXY)\n",
        "\n",
        "            output_path = os.path.join('/content/processedImages', f\"processed_{filename}\")\n",
        "            cv2.imwrite(output_path, imagemContornadaXY)\n",
        "    else:\n",
        "            print(f\"Error ao carregar {filename}\")"
      ],
      "metadata": {
        "id": "rH4UpCIiGY06"
      },
      "execution_count": null,
      "outputs": []
    },
    {
      "cell_type": "code",
      "source": [
        "#código da IA vai aqui"
      ],
      "metadata": {
        "id": "AzDRXkgQLfm0"
      },
      "execution_count": null,
      "outputs": []
    },
    {
      "cell_type": "code",
      "source": [
        "@app.get(\"/\")\n",
        "async def root():\n",
        "    return {\"message\": \"Hello World\"}"
      ],
      "metadata": {
        "id": "Etdr6E-JLfys"
      },
      "execution_count": null,
      "outputs": []
    }
  ]
}