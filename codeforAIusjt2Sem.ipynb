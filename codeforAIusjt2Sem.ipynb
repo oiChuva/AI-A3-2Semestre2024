{
  "nbformat": 4,
  "nbformat_minor": 0,
  "metadata": {
    "colab": {
      "provenance": [],
      "authorship_tag": "ABX9TyNsuQzHU8mrqvw2XQ7mWese",
      "include_colab_link": true
    },
    "kernelspec": {
      "name": "python3",
      "display_name": "Python 3"
    },
    "language_info": {
      "name": "python"
    }
  },
  "cells": [
    {
      "cell_type": "markdown",
      "metadata": {
        "id": "view-in-github",
        "colab_type": "text"
      },
      "source": [
        "<a href=\"https://colab.research.google.com/github/oiChuva/AI-A3-2Semetre2024/blob/main/codeforAIusjt2Sem.ipynb\" target=\"_parent\"><img src=\"https://colab.research.google.com/assets/colab-badge.svg\" alt=\"Open In Colab\"/></a>"
      ]
    },
    {
      "cell_type": "code",
      "execution_count": 4,
      "metadata": {
        "id": "jgzkOsb8cUjw"
      },
      "outputs": [],
      "source": [
        "import fastapi as fa\n",
        "\n",
        "app = fa.FastAPI()\n",
        "\n",
        "# A ideia da api é ela ser um post, teremos uma função principal que utiliza\n",
        "# a imagem recebida na IA, que, conforme a API receber o conjunto de dados da\n",
        "# validação, imagem, tipo de item e pergunta(tem ou não tem?), jogará a\n",
        "# imagem na IA e manda uma response para o usuário.\n",
        "\n",
        "@app.get(\"/\")\n",
        "async def root():\n",
        "    return {\"message\": \"Hello World\"}\n"
      ]
    }
  ]
}